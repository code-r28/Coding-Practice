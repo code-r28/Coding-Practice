{
  "nbformat": 4,
  "nbformat_minor": 0,
  "metadata": {
    "colab": {
      "provenance": [],
      "authorship_tag": "ABX9TyOFZgZjUk79U0XnoN5/1toL",
      "include_colab_link": true
    },
    "kernelspec": {
      "name": "python3",
      "display_name": "Python 3"
    },
    "language_info": {
      "name": "python"
    }
  },
  "cells": [
    {
      "cell_type": "markdown",
      "metadata": {
        "id": "view-in-github",
        "colab_type": "text"
      },
      "source": [
        "<a href=\"https://colab.research.google.com/github/code-r28/Coding-Practice/blob/main/Coding_Practice.ipynb\" target=\"_parent\"><img src=\"https://colab.research.google.com/assets/colab-badge.svg\" alt=\"Open In Colab\"/></a>"
      ]
    },
    {
      "cell_type": "markdown",
      "source": [
        "#Day 1"
      ],
      "metadata": {
        "id": "Parf4It84x50"
      }
    },
    {
      "cell_type": "code",
      "execution_count": null,
      "metadata": {
        "id": "3sjGCo3oQJTq"
      },
      "outputs": [],
      "source": [
        "import numpy as np"
      ]
    },
    {
      "cell_type": "code",
      "source": [
        "A=np.arange(1,17).reshape(4,4)"
      ],
      "metadata": {
        "id": "x6LloxRAQMl_"
      },
      "execution_count": null,
      "outputs": []
    },
    {
      "cell_type": "markdown",
      "source": [
        "#Transpose Matrix"
      ],
      "metadata": {
        "id": "apkrXQruU9x3"
      }
    },
    {
      "cell_type": "code",
      "source": [
        "print(\"Matrix\")"
      ],
      "metadata": {
        "colab": {
          "base_uri": "https://localhost:8080/"
        },
        "id": "8oaPfo69QMby",
        "outputId": "6fb11a4a-3e4a-4ba2-b50d-3418c322f38a"
      },
      "execution_count": null,
      "outputs": [
        {
          "output_type": "stream",
          "name": "stdout",
          "text": [
            "Matrix\n"
          ]
        }
      ]
    },
    {
      "cell_type": "code",
      "source": [
        "print(A)"
      ],
      "metadata": {
        "colab": {
          "base_uri": "https://localhost:8080/"
        },
        "id": "ZNtoG4WEQMQX",
        "outputId": "3ba1f325-ed89-49d9-8e0d-221c4f14c31e"
      },
      "execution_count": null,
      "outputs": [
        {
          "output_type": "stream",
          "name": "stdout",
          "text": [
            "[[ 1  2  3  4]\n",
            " [ 5  6  7  8]\n",
            " [ 9 10 11 12]\n",
            " [13 14 15 16]]\n"
          ]
        }
      ]
    },
    {
      "cell_type": "code",
      "source": [
        "print(\"Transpose of the Matrix\")"
      ],
      "metadata": {
        "colab": {
          "base_uri": "https://localhost:8080/"
        },
        "id": "dC7HghhFQMOA",
        "outputId": "9bbcde40-ef1b-491f-c2d6-2947341a210f"
      },
      "execution_count": null,
      "outputs": [
        {
          "output_type": "stream",
          "name": "stdout",
          "text": [
            "Transpose of the Matrix\n"
          ]
        }
      ]
    },
    {
      "cell_type": "code",
      "source": [
        "print(A.transpose())"
      ],
      "metadata": {
        "colab": {
          "base_uri": "https://localhost:8080/"
        },
        "id": "Xz_ixyxmQpVh",
        "outputId": "504c48c3-5a84-4404-dfd5-b52f963f292b"
      },
      "execution_count": null,
      "outputs": [
        {
          "output_type": "stream",
          "name": "stdout",
          "text": [
            "[[ 1  5  9 13]\n",
            " [ 2  6 10 14]\n",
            " [ 3  7 11 15]\n",
            " [ 4  8 12 16]]\n"
          ]
        }
      ]
    },
    {
      "cell_type": "markdown",
      "source": [
        "#Matrix Multiplication"
      ],
      "metadata": {
        "id": "eFRlgJuDR4iI"
      }
    },
    {
      "cell_type": "code",
      "source": [
        "B=np.arange(18,34).reshape(4,4)"
      ],
      "metadata": {
        "id": "qp3JnUH3R4H3"
      },
      "execution_count": null,
      "outputs": []
    },
    {
      "cell_type": "code",
      "source": [
        "A.dot(B) #Multiplcation function"
      ],
      "metadata": {
        "colab": {
          "base_uri": "https://localhost:8080/"
        },
        "id": "mvvsuc16SFob",
        "outputId": "31b77169-5857-4f69-b0d3-ccedf0026a2f"
      },
      "execution_count": null,
      "outputs": [
        {
          "output_type": "execute_result",
          "data": {
            "text/plain": [
              "array([[ 260,  270,  280,  290],\n",
              "       [ 644,  670,  696,  722],\n",
              "       [1028, 1070, 1112, 1154],\n",
              "       [1412, 1470, 1528, 1586]])"
            ]
          },
          "metadata": {},
          "execution_count": 8
        }
      ]
    },
    {
      "cell_type": "code",
      "source": [
        "C=np.arange(35,51).reshape(4,4)"
      ],
      "metadata": {
        "id": "SmeXcSncTCFr"
      },
      "execution_count": null,
      "outputs": []
    },
    {
      "cell_type": "code",
      "source": [
        "# ABC=(AB)C=A(BC)\n",
        "temp1=(A.dot(B).dot(C))\n",
        "temp2=A.dot((B).dot(C))"
      ],
      "metadata": {
        "id": "IKs3GP2YTB-m"
      },
      "execution_count": null,
      "outputs": []
    },
    {
      "cell_type": "code",
      "source": [
        "print(temp1)\n",
        "print(temp2)"
      ],
      "metadata": {
        "colab": {
          "base_uri": "https://localhost:8080/"
        },
        "id": "c1WWtiu0TBpj",
        "outputId": "34f0fb5a-991b-48c1-af0c-0eb554182f68"
      },
      "execution_count": null,
      "outputs": [
        {
          "output_type": "stream",
          "name": "stdout",
          "text": [
            "[[ 45300  46400  47500  48600]\n",
            " [112532 115264 117996 120728]\n",
            " [179764 184128 188492 192856]\n",
            " [246996 252992 258988 264984]]\n",
            "[[ 45300  46400  47500  48600]\n",
            " [112532 115264 117996 120728]\n",
            " [179764 184128 188492 192856]\n",
            " [246996 252992 258988 264984]]\n"
          ]
        }
      ]
    },
    {
      "cell_type": "markdown",
      "source": [
        "#Inverse Matrix"
      ],
      "metadata": {
        "id": "E7Pb3QT5Ul7v"
      }
    },
    {
      "cell_type": "code",
      "source": [
        "arr=np.arange(91,107).reshape(4,4)\n",
        "print(arr)"
      ],
      "metadata": {
        "colab": {
          "base_uri": "https://localhost:8080/"
        },
        "id": "kMi6Xs6MUoPX",
        "outputId": "c28b693e-d5ea-49ea-bff2-a8e8b233ba24"
      },
      "execution_count": null,
      "outputs": [
        {
          "output_type": "stream",
          "name": "stdout",
          "text": [
            "[[ 91  92  93  94]\n",
            " [ 95  96  97  98]\n",
            " [ 99 100 101 102]\n",
            " [103 104 105 106]]\n"
          ]
        }
      ]
    },
    {
      "cell_type": "code",
      "source": [
        "np.linalg.det(arr)"
      ],
      "metadata": {
        "colab": {
          "base_uri": "https://localhost:8080/"
        },
        "id": "qWt8Vl-UU4j3",
        "outputId": "2e322ae7-ae56-4a41-9995-f96dd8ba7060"
      },
      "execution_count": null,
      "outputs": [
        {
          "output_type": "execute_result",
          "data": {
            "text/plain": [
              "2.4233807008391215e-27"
            ]
          },
          "metadata": {},
          "execution_count": 13
        }
      ]
    },
    {
      "cell_type": "code",
      "source": [
        "np.linalg.inv(arr)"
      ],
      "metadata": {
        "colab": {
          "base_uri": "https://localhost:8080/"
        },
        "id": "lsajRkHMVjqH",
        "outputId": "6e3505d7-5b62-48d9-9a28-05067482ec4d"
      },
      "execution_count": null,
      "outputs": [
        {
          "output_type": "execute_result",
          "data": {
            "text/plain": [
              "array([[ 2.34562481e+13, -8.66990291e+00, -7.03687442e+13,\n",
              "         4.69124961e+13],\n",
              "       [-2.86669922e+00, -7.03687442e+13,  1.40737488e+14,\n",
              "        -7.03687442e+13],\n",
              "       [-7.03687442e+13,  1.40737488e+14, -7.03687442e+13,\n",
              "        -0.00000000e+00],\n",
              "       [ 4.69124961e+13, -7.03687442e+13, -0.00000000e+00,\n",
              "         2.34562481e+13]])"
            ]
          },
          "metadata": {},
          "execution_count": 14
        }
      ]
    },
    {
      "cell_type": "markdown",
      "source": [
        "#Day 2\n"
      ],
      "metadata": {
        "id": "wPBCm0DSmOXo"
      }
    },
    {
      "cell_type": "code",
      "source": [
        "import pandas as pd\n",
        "import numpy as np"
      ],
      "metadata": {
        "id": "DkKMCKvYoY67"
      },
      "execution_count": null,
      "outputs": []
    },
    {
      "cell_type": "code",
      "source": [
        "df=pd.read_csv('/content/baseball.csv')"
      ],
      "metadata": {
        "id": "KlEtWMUVndMz",
        "colab": {
          "base_uri": "https://localhost:8080/",
          "height": 311
        },
        "outputId": "9b34872b-877e-45f1-a27a-ed90b2c8af03"
      },
      "execution_count": null,
      "outputs": [
        {
          "output_type": "error",
          "ename": "FileNotFoundError",
          "evalue": "[Errno 2] No such file or directory: '/content/baseball.csv'",
          "traceback": [
            "\u001b[0;31m---------------------------------------------------------------------------\u001b[0m",
            "\u001b[0;31mFileNotFoundError\u001b[0m                         Traceback (most recent call last)",
            "\u001b[0;32m<ipython-input-16-8525575c1010>\u001b[0m in \u001b[0;36m<cell line: 1>\u001b[0;34m()\u001b[0m\n\u001b[0;32m----> 1\u001b[0;31m \u001b[0mdf\u001b[0m\u001b[0;34m=\u001b[0m\u001b[0mpd\u001b[0m\u001b[0;34m.\u001b[0m\u001b[0mread_csv\u001b[0m\u001b[0;34m(\u001b[0m\u001b[0;34m'/content/baseball.csv'\u001b[0m\u001b[0;34m)\u001b[0m\u001b[0;34m\u001b[0m\u001b[0;34m\u001b[0m\u001b[0m\n\u001b[0m",
            "\u001b[0;32m/usr/local/lib/python3.10/dist-packages/pandas/io/parsers/readers.py\u001b[0m in \u001b[0;36mread_csv\u001b[0;34m(filepath_or_buffer, sep, delimiter, header, names, index_col, usecols, dtype, engine, converters, true_values, false_values, skipinitialspace, skiprows, skipfooter, nrows, na_values, keep_default_na, na_filter, verbose, skip_blank_lines, parse_dates, infer_datetime_format, keep_date_col, date_parser, date_format, dayfirst, cache_dates, iterator, chunksize, compression, thousands, decimal, lineterminator, quotechar, quoting, doublequote, escapechar, comment, encoding, encoding_errors, dialect, on_bad_lines, delim_whitespace, low_memory, memory_map, float_precision, storage_options, dtype_backend)\u001b[0m\n\u001b[1;32m    910\u001b[0m     \u001b[0mkwds\u001b[0m\u001b[0;34m.\u001b[0m\u001b[0mupdate\u001b[0m\u001b[0;34m(\u001b[0m\u001b[0mkwds_defaults\u001b[0m\u001b[0;34m)\u001b[0m\u001b[0;34m\u001b[0m\u001b[0;34m\u001b[0m\u001b[0m\n\u001b[1;32m    911\u001b[0m \u001b[0;34m\u001b[0m\u001b[0m\n\u001b[0;32m--> 912\u001b[0;31m     \u001b[0;32mreturn\u001b[0m \u001b[0m_read\u001b[0m\u001b[0;34m(\u001b[0m\u001b[0mfilepath_or_buffer\u001b[0m\u001b[0;34m,\u001b[0m \u001b[0mkwds\u001b[0m\u001b[0;34m)\u001b[0m\u001b[0;34m\u001b[0m\u001b[0;34m\u001b[0m\u001b[0m\n\u001b[0m\u001b[1;32m    913\u001b[0m \u001b[0;34m\u001b[0m\u001b[0m\n\u001b[1;32m    914\u001b[0m \u001b[0;34m\u001b[0m\u001b[0m\n",
            "\u001b[0;32m/usr/local/lib/python3.10/dist-packages/pandas/io/parsers/readers.py\u001b[0m in \u001b[0;36m_read\u001b[0;34m(filepath_or_buffer, kwds)\u001b[0m\n\u001b[1;32m    575\u001b[0m \u001b[0;34m\u001b[0m\u001b[0m\n\u001b[1;32m    576\u001b[0m     \u001b[0;31m# Create the parser.\u001b[0m\u001b[0;34m\u001b[0m\u001b[0;34m\u001b[0m\u001b[0m\n\u001b[0;32m--> 577\u001b[0;31m     \u001b[0mparser\u001b[0m \u001b[0;34m=\u001b[0m \u001b[0mTextFileReader\u001b[0m\u001b[0;34m(\u001b[0m\u001b[0mfilepath_or_buffer\u001b[0m\u001b[0;34m,\u001b[0m \u001b[0;34m**\u001b[0m\u001b[0mkwds\u001b[0m\u001b[0;34m)\u001b[0m\u001b[0;34m\u001b[0m\u001b[0;34m\u001b[0m\u001b[0m\n\u001b[0m\u001b[1;32m    578\u001b[0m \u001b[0;34m\u001b[0m\u001b[0m\n\u001b[1;32m    579\u001b[0m     \u001b[0;32mif\u001b[0m \u001b[0mchunksize\u001b[0m \u001b[0;32mor\u001b[0m \u001b[0miterator\u001b[0m\u001b[0;34m:\u001b[0m\u001b[0;34m\u001b[0m\u001b[0;34m\u001b[0m\u001b[0m\n",
            "\u001b[0;32m/usr/local/lib/python3.10/dist-packages/pandas/io/parsers/readers.py\u001b[0m in \u001b[0;36m__init__\u001b[0;34m(self, f, engine, **kwds)\u001b[0m\n\u001b[1;32m   1405\u001b[0m \u001b[0;34m\u001b[0m\u001b[0m\n\u001b[1;32m   1406\u001b[0m         \u001b[0mself\u001b[0m\u001b[0;34m.\u001b[0m\u001b[0mhandles\u001b[0m\u001b[0;34m:\u001b[0m \u001b[0mIOHandles\u001b[0m \u001b[0;34m|\u001b[0m \u001b[0;32mNone\u001b[0m \u001b[0;34m=\u001b[0m \u001b[0;32mNone\u001b[0m\u001b[0;34m\u001b[0m\u001b[0;34m\u001b[0m\u001b[0m\n\u001b[0;32m-> 1407\u001b[0;31m         \u001b[0mself\u001b[0m\u001b[0;34m.\u001b[0m\u001b[0m_engine\u001b[0m \u001b[0;34m=\u001b[0m \u001b[0mself\u001b[0m\u001b[0;34m.\u001b[0m\u001b[0m_make_engine\u001b[0m\u001b[0;34m(\u001b[0m\u001b[0mf\u001b[0m\u001b[0;34m,\u001b[0m \u001b[0mself\u001b[0m\u001b[0;34m.\u001b[0m\u001b[0mengine\u001b[0m\u001b[0;34m)\u001b[0m\u001b[0;34m\u001b[0m\u001b[0;34m\u001b[0m\u001b[0m\n\u001b[0m\u001b[1;32m   1408\u001b[0m \u001b[0;34m\u001b[0m\u001b[0m\n\u001b[1;32m   1409\u001b[0m     \u001b[0;32mdef\u001b[0m \u001b[0mclose\u001b[0m\u001b[0;34m(\u001b[0m\u001b[0mself\u001b[0m\u001b[0;34m)\u001b[0m \u001b[0;34m->\u001b[0m \u001b[0;32mNone\u001b[0m\u001b[0;34m:\u001b[0m\u001b[0;34m\u001b[0m\u001b[0;34m\u001b[0m\u001b[0m\n",
            "\u001b[0;32m/usr/local/lib/python3.10/dist-packages/pandas/io/parsers/readers.py\u001b[0m in \u001b[0;36m_make_engine\u001b[0;34m(self, f, engine)\u001b[0m\n\u001b[1;32m   1659\u001b[0m                 \u001b[0;32mif\u001b[0m \u001b[0;34m\"b\"\u001b[0m \u001b[0;32mnot\u001b[0m \u001b[0;32min\u001b[0m \u001b[0mmode\u001b[0m\u001b[0;34m:\u001b[0m\u001b[0;34m\u001b[0m\u001b[0;34m\u001b[0m\u001b[0m\n\u001b[1;32m   1660\u001b[0m                     \u001b[0mmode\u001b[0m \u001b[0;34m+=\u001b[0m \u001b[0;34m\"b\"\u001b[0m\u001b[0;34m\u001b[0m\u001b[0;34m\u001b[0m\u001b[0m\n\u001b[0;32m-> 1661\u001b[0;31m             self.handles = get_handle(\n\u001b[0m\u001b[1;32m   1662\u001b[0m                 \u001b[0mf\u001b[0m\u001b[0;34m,\u001b[0m\u001b[0;34m\u001b[0m\u001b[0;34m\u001b[0m\u001b[0m\n\u001b[1;32m   1663\u001b[0m                 \u001b[0mmode\u001b[0m\u001b[0;34m,\u001b[0m\u001b[0;34m\u001b[0m\u001b[0;34m\u001b[0m\u001b[0m\n",
            "\u001b[0;32m/usr/local/lib/python3.10/dist-packages/pandas/io/common.py\u001b[0m in \u001b[0;36mget_handle\u001b[0;34m(path_or_buf, mode, encoding, compression, memory_map, is_text, errors, storage_options)\u001b[0m\n\u001b[1;32m    857\u001b[0m         \u001b[0;32mif\u001b[0m \u001b[0mioargs\u001b[0m\u001b[0;34m.\u001b[0m\u001b[0mencoding\u001b[0m \u001b[0;32mand\u001b[0m \u001b[0;34m\"b\"\u001b[0m \u001b[0;32mnot\u001b[0m \u001b[0;32min\u001b[0m \u001b[0mioargs\u001b[0m\u001b[0;34m.\u001b[0m\u001b[0mmode\u001b[0m\u001b[0;34m:\u001b[0m\u001b[0;34m\u001b[0m\u001b[0;34m\u001b[0m\u001b[0m\n\u001b[1;32m    858\u001b[0m             \u001b[0;31m# Encoding\u001b[0m\u001b[0;34m\u001b[0m\u001b[0;34m\u001b[0m\u001b[0m\n\u001b[0;32m--> 859\u001b[0;31m             handle = open(\n\u001b[0m\u001b[1;32m    860\u001b[0m                 \u001b[0mhandle\u001b[0m\u001b[0;34m,\u001b[0m\u001b[0;34m\u001b[0m\u001b[0;34m\u001b[0m\u001b[0m\n\u001b[1;32m    861\u001b[0m                 \u001b[0mioargs\u001b[0m\u001b[0;34m.\u001b[0m\u001b[0mmode\u001b[0m\u001b[0;34m,\u001b[0m\u001b[0;34m\u001b[0m\u001b[0;34m\u001b[0m\u001b[0m\n",
            "\u001b[0;31mFileNotFoundError\u001b[0m: [Errno 2] No such file or directory: '/content/baseball.csv'"
          ]
        }
      ]
    },
    {
      "cell_type": "code",
      "source": [
        "df1=df.head(6)"
      ],
      "metadata": {
        "id": "K7V4kDIInd8A"
      },
      "execution_count": null,
      "outputs": []
    },
    {
      "cell_type": "code",
      "source": [
        "X=df1[['RS','RA','W','OBP','SLG','BA']]\n",
        "Y=df1['OOBP']"
      ],
      "metadata": {
        "id": "s0QBqRfOnd1d"
      },
      "execution_count": null,
      "outputs": []
    },
    {
      "cell_type": "code",
      "source": [
        "X=np.asmatrix(X)"
      ],
      "metadata": {
        "id": "MYWfTaSxpGDu"
      },
      "execution_count": null,
      "outputs": []
    },
    {
      "cell_type": "code",
      "source": [
        "x=np.transpose(X)"
      ],
      "metadata": {
        "id": "cRhOMxfqpVcE"
      },
      "execution_count": null,
      "outputs": []
    },
    {
      "cell_type": "code",
      "source": [
        "T=x.dot(x)"
      ],
      "metadata": {
        "id": "CxiH4yrxpb6n"
      },
      "execution_count": null,
      "outputs": []
    },
    {
      "cell_type": "code",
      "source": [
        "inv=np.linalg.inv(T)"
      ],
      "metadata": {
        "id": "srUFjt3Spb4z"
      },
      "execution_count": null,
      "outputs": []
    },
    {
      "cell_type": "code",
      "source": [
        "theta=(inv.dot(X,T)).dot(Y)\n",
        "print(theta)"
      ],
      "metadata": {
        "id": "GEYIbcEGpb2U"
      },
      "execution_count": null,
      "outputs": []
    },
    {
      "cell_type": "code",
      "source": [
        "from sympy import *\n",
        "x=Symbol ('x')\n",
        "f=x**2\n",
        "derivative=f.diff(x)\n",
        "print (derivative)"
      ],
      "metadata": {
        "id": "XKopxGpT3Bx2"
      },
      "execution_count": null,
      "outputs": []
    },
    {
      "cell_type": "code",
      "source": [
        "import matplotlib.pyplot as plt\n",
        "import numpy as np\n",
        "x=np.linspace (-10, 10, 100)\n",
        "y=x**2\n",
        "dy=2*x\n",
        "fig, ax=plt.subplots()\n",
        "ax.plot(x, y, 'r', linewidth=2)\n",
        "ax.plot(x, dy, 'g',linewidth=2)\n",
        "ax.legend(['y=x^2','dy/dx=2x'])"
      ],
      "metadata": {
        "id": "xX0nnicE3ElA"
      },
      "execution_count": null,
      "outputs": []
    },
    {
      "cell_type": "code",
      "source": [
        "x=Symbol('x')\n",
        "f=x**2\n",
        "integral=integrate(f,(x,0,1))\n",
        "print(integral)"
      ],
      "metadata": {
        "id": "O_0xcU6R6bJk"
      },
      "execution_count": null,
      "outputs": []
    },
    {
      "cell_type": "code",
      "source": [
        "x=np.linspace(0,1,100)\n",
        "y=x**2\n",
        "\n",
        "fig, ax=plt.subplots()\n",
        "ax.fill_between(x,y)\n",
        "plt.show()"
      ],
      "metadata": {
        "id": "Lqyfyx576bHq"
      },
      "execution_count": null,
      "outputs": []
    },
    {
      "cell_type": "markdown",
      "source": [
        "#Binomial Distribution\n"
      ],
      "metadata": {
        "id": "Ki9TfQ5IJ1f1"
      }
    },
    {
      "cell_type": "code",
      "source": [
        "from scipy.stats import binom"
      ],
      "metadata": {
        "id": "XGGD9hAaLH8Z"
      },
      "execution_count": null,
      "outputs": []
    },
    {
      "cell_type": "code",
      "source": [
        "n=21\n",
        "p=0.5"
      ],
      "metadata": {
        "id": "FQtbhLyJJ6i6"
      },
      "execution_count": null,
      "outputs": []
    },
    {
      "cell_type": "code",
      "source": [
        "binom_dist=binom(n,p)\n",
        "even_probs=binom_dist.pmf(range(0,22,2))"
      ],
      "metadata": {
        "id": "9dJV32a7J6YQ"
      },
      "execution_count": null,
      "outputs": []
    },
    {
      "cell_type": "code",
      "source": [
        "for i, prob in enumerate(even_probs):\n",
        "  print(\"The Prob of getting {} head in 21 flips is {} \".format(2*i,prob))"
      ],
      "metadata": {
        "id": "1v7eG1VGLPKp"
      },
      "execution_count": null,
      "outputs": []
    },
    {
      "cell_type": "code",
      "source": [
        "total_prob=sum(even_probs)\n",
        "print(\"Total Prob of getting even num of head is {}\".format(total_prob))"
      ],
      "metadata": {
        "id": "BRA0dYHhLOx_"
      },
      "execution_count": null,
      "outputs": []
    },
    {
      "cell_type": "code",
      "source": [
        "#Plot a normal distribution for the height of men,mean-175,sd-6\n",
        "import matplotlib.pyplot as plt\n",
        "import seaborn as sns\n",
        "import numpy as np"
      ],
      "metadata": {
        "id": "Zxcx_icFPJb-"
      },
      "execution_count": null,
      "outputs": []
    },
    {
      "cell_type": "code",
      "source": [
        "mu,sigma=175,6\n",
        "data=np.random.normal(mu,sigma,10000)"
      ],
      "metadata": {
        "id": "l2Iha5r8PJPv"
      },
      "execution_count": null,
      "outputs": []
    },
    {
      "cell_type": "code",
      "source": [
        "sns.histplot(data,bins=30,kde=True,stat='probability')\n",
        "plt.xlabel('Height(Men)')\n",
        "plt.ylabel('Height(Prob)')\n",
        "plt.title(\"Distribution of Men's height\")\n",
        "plt.xticks(range(155,200,5))\n",
        "plt.show"
      ],
      "metadata": {
        "id": "2zqtH75lQyvz"
      },
      "execution_count": null,
      "outputs": []
    },
    {
      "cell_type": "code",
      "source": [
        "data=(data-mu)/sigma"
      ],
      "metadata": {
        "id": "CmpDmGmCSuWD"
      },
      "execution_count": null,
      "outputs": []
    },
    {
      "cell_type": "code",
      "source": [
        "one_sd=len(data[(data>-1)&(data<1)])/len(data)*100\n",
        "two_sd=len(data[(data>-2)&(data<2)])/len(data)*100\n",
        "third_sd=len(data[(data>-3)&(data<3)])/len(data)*100"
      ],
      "metadata": {
        "id": "o0Mb8dlaTu5x"
      },
      "execution_count": null,
      "outputs": []
    },
    {
      "cell_type": "code",
      "source": [
        "print('Percentage of data withine one sd:',round(one_sd,2))\n",
        "print('Percentage of data withine two sd:',round(two_sd,2))\n",
        "print('Percentage of data withine third sd:',round(third_sd,2))"
      ],
      "metadata": {
        "id": "w4ZuysxFTu3K"
      },
      "execution_count": null,
      "outputs": []
    },
    {
      "cell_type": "code",
      "source": [
        "sns.histplot(data,bins=30,kde=True,stat='probability')\n",
        "plt.xlabel('Height(Men)')\n",
        "plt.ylabel('Height(Prob)')\n",
        "plt.title(\"Distribution of Men's height\")\n",
        "plt.xticks(range(-3,4,1))\n",
        "plt.show"
      ],
      "metadata": {
        "id": "OE8EHF4gTu0D"
      },
      "execution_count": null,
      "outputs": []
    },
    {
      "cell_type": "code",
      "source": [
        "from scipy.stats import norm\n",
        "\n",
        "mu=175\n",
        "sigma=5"
      ],
      "metadata": {
        "id": "fklnIZVjXkKs"
      },
      "execution_count": null,
      "outputs": []
    },
    {
      "cell_type": "code",
      "source": [
        "z=(183-mu)/sigma\n",
        "p=norm.cdf(z)"
      ],
      "metadata": {
        "id": "cjZP--vhXjPN"
      },
      "execution_count": null,
      "outputs": []
    },
    {
      "cell_type": "code",
      "source": [
        "p=norm.cdf(z)\n",
        "print(\"Percentage of men shorter than 183 cm:\",round(p*100,2))"
      ],
      "metadata": {
        "id": "p_b7lzuNX2Wo"
      },
      "execution_count": null,
      "outputs": []
    },
    {
      "cell_type": "markdown",
      "source": [
        "# Poisson Distribution"
      ],
      "metadata": {
        "id": "R54X-Uoep8Ii"
      }
    },
    {
      "cell_type": "code",
      "source": [
        "#POISSION DISTRIBUTION\n",
        "#plot poission distribution  with different values of lambda\n",
        "from scipy.stats import poisson\n",
        "import seaborn as sns\n",
        "import matplotlib.pyplot as plt\n",
        "#genreating poissiond data\n",
        "sample1=poisson.rvs(mu=2,size=100)\n",
        "sample2=poisson.rvs(mu=5,size=100)\n",
        "sample3=poisson.rvs(mu=10,size=100)"
      ],
      "metadata": {
        "id": "Gze82goKp_ql"
      },
      "execution_count": null,
      "outputs": []
    },
    {
      "cell_type": "code",
      "source": [
        "sns.kdeplot(x=sample1,fill=True,label='lambda=2')\n",
        "sns.kdeplot(x=sample2,fill=True,label='lambda=5')\n",
        "sns.kdeplot(x=sample3,fill=True,label='lambda=10')\n",
        "plt.xlabel('No of events in a specific time interval')\n",
        "plt.ylabel('Probability')\n",
        "plt.legend()\n",
        "plt.show()"
      ],
      "metadata": {
        "id": "XVvaPcnasHxf"
      },
      "execution_count": null,
      "outputs": []
    },
    {
      "cell_type": "code",
      "source": [
        "#a\n",
        "from scipy.stats import poisson\n",
        "#The expected Value lamda is the daily average rate\n",
        "mu=3\n",
        "#Calculate Probability of number of patients being 5 tmrw\n",
        "p_5=poisson.pmf(k=5,mu=3)\n",
        "print('Probability of 5 patients coming in tomorrow:', round(p_5*100,2))"
      ],
      "metadata": {
        "id": "QxuAu9lnuPfL"
      },
      "execution_count": null,
      "outputs": []
    },
    {
      "cell_type": "code",
      "source": [
        "from scipy.stats import poisson\n",
        "\n",
        "#Calculate probability of number of patients being >4 tmrw\n",
        "greater_4=1-poisson.cdf(k=4,mu=3)\n",
        "print('Prob of more than 4 patients:',round(greater_4*100,2))"
      ],
      "metadata": {
        "id": "hezF4DsYvZJq"
      },
      "execution_count": null,
      "outputs": []
    },
    {
      "cell_type": "code",
      "source": [
        "poisson_prob=[0]*25\n",
        "print(poisson_prob)\n",
        "#Number of customer ranging between 0 and 24\n",
        "k_val=[i for i in range(0,25)]\n",
        "lamda=5\n",
        "for i in k_val:\n",
        "     poisson_prob[i]=poisson.pmf(k=i,mu=lamda) #calculation poisson pmf for each value in k_val list\n",
        "     #Displaying barplot to show poisson probability of k number of customer\n",
        "plt.bar(k_val,poisson_prob)\n",
        "plt.title(f\"Poisson Distribution plot for Lamda: {lamda}\")\n",
        "plt.xlabel('Num of customer per day')\n",
        "plt.ylabel('Probability')"
      ],
      "metadata": {
        "id": "ar8hjCU0wwka"
      },
      "execution_count": null,
      "outputs": []
    },
    {
      "cell_type": "code",
      "source": [
        "from scipy.stats import poisson\n",
        "\n",
        "#Calculate probability of number of patients being >4 tmrw\n",
        "greater_4=1-poisson.cdf(k=4,mu=3)\n",
        "print('Prob of more than 4 patients:',round(greater_4*100,2))poisson_prob=[0]*25\n",
        "print(poisson_prob)\n",
        "#Number of customer ranging between 0 and 24\n",
        "k_val=[i for i in range(0,25)]\n",
        "lamda=5\n",
        "for i in k_val:\n",
        "     poisson_prob[i]=poisson.pmf(k=i,mu=lamda) #calculation poisson pmf for each value in k_val list\n",
        "     #Displaying barplot to show poisson probability of k number of customer\n",
        "plt.bar(k_val,poisson_prob)\n",
        "plt.title(f\"Poisson Distribution plot for Lamda: {lamda}\")\n",
        "plt.xlabel('Num of customer per day')\n",
        "plt.ylabel('Probability')"
      ],
      "metadata": {
        "id": "kl0oVR84y8YL"
      },
      "execution_count": null,
      "outputs": []
    },
    {
      "cell_type": "markdown",
      "source": [
        "#Numpy"
      ],
      "metadata": {
        "id": "6MfnsK_K1fHg"
      }
    },
    {
      "cell_type": "code",
      "source": [
        "l1=[1,2,3]\n",
        "l2=[4,5,6]\n",
        "l3=[7,8,9]\n",
        "\n",
        "\n",
        "sam_arr= np.array([l1,l2,l3])\n",
        "print(\"Numpy multi dim arra\\n\",sam_arr)\n",
        "\n"
      ],
      "metadata": {
        "colab": {
          "base_uri": "https://localhost:8080/"
        },
        "id": "1jtxOXfWzFNV",
        "outputId": "008b08b5-085b-4942-df10-f232c2575022"
      },
      "execution_count": null,
      "outputs": [
        {
          "output_type": "stream",
          "name": "stdout",
          "text": [
            "Numpy multi dim arra\n",
            " [[1 2 3]\n",
            " [4 5 6]\n",
            " [7 8 9]]\n"
          ]
        }
      ]
    },
    {
      "cell_type": "code",
      "source": [
        "nd_arr=np.arange(12).reshape(4,3)\n",
        "print(nd_arr)"
      ],
      "metadata": {
        "colab": {
          "base_uri": "https://localhost:8080/"
        },
        "id": "umis643iz7Qn",
        "outputId": "c01e4531-ec90-458e-8d94-567d82fecbc3"
      },
      "execution_count": null,
      "outputs": [
        {
          "output_type": "stream",
          "name": "stdout",
          "text": [
            "[[ 0  1  2]\n",
            " [ 3  4  5]\n",
            " [ 6  7  8]\n",
            " [ 9 10 11]]\n"
          ]
        }
      ]
    },
    {
      "cell_type": "code",
      "source": [
        "tup=(1,2,3,4,5)\n",
        "print(\"Tuple Values:\",tup,\"type\",type(tup))\n",
        "num_arr=np.array((tup))\n",
        "print(\"Numpy Array values:\",num_arr,\"type\",type(num_arr))"
      ],
      "metadata": {
        "colab": {
          "base_uri": "https://localhost:8080/"
        },
        "id": "hcD-TgCL0S_g",
        "outputId": "74ff8e8d-d2b3-44f7-8aa2-d787682e9824"
      },
      "execution_count": null,
      "outputs": [
        {
          "output_type": "stream",
          "name": "stdout",
          "text": [
            "Tuple Values: (1, 2, 3, 4, 5) type <class 'tuple'>\n",
            "Numpy Array values: [1 2 3 4 5] type <class 'numpy.ndarray'>\n"
          ]
        }
      ]
    },
    {
      "cell_type": "code",
      "source": [
        "arr_zd=np.array(36)\n",
        "print(arr_zd)"
      ],
      "metadata": {
        "colab": {
          "base_uri": "https://localhost:8080/"
        },
        "id": "j1ygNTQW1vRW",
        "outputId": "ea5ad404-1a7b-49a8-c910-ffce626c9dc1"
      },
      "execution_count": null,
      "outputs": [
        {
          "output_type": "stream",
          "name": "stdout",
          "text": [
            "36\n"
          ]
        }
      ]
    },
    {
      "cell_type": "code",
      "source": [
        "print(\"Arr one d\",np.array([1,2,3,4,5]))"
      ],
      "metadata": {
        "colab": {
          "base_uri": "https://localhost:8080/"
        },
        "id": "ltM3TJeA1vPV",
        "outputId": "5fe07af4-eff4-48bf-93a9-ec0bd0ea917a"
      },
      "execution_count": null,
      "outputs": [
        {
          "output_type": "stream",
          "name": "stdout",
          "text": [
            "Arr one d [1 2 3 4 5]\n"
          ]
        }
      ]
    },
    {
      "cell_type": "code",
      "source": [
        "print(\"Arr two d\",np.array([1,2,3,4,5]))"
      ],
      "metadata": {
        "id": "LkM0hP8R1u2C"
      },
      "execution_count": null,
      "outputs": []
    },
    {
      "cell_type": "code",
      "source": [
        "print(\"Arr three d\",np.array([1,2,3,4,5]))"
      ],
      "metadata": {
        "id": "Oth-lXZa2pJC"
      },
      "execution_count": null,
      "outputs": []
    },
    {
      "cell_type": "markdown",
      "source": [
        "#DS_Numpy\n"
      ],
      "metadata": {
        "id": "00slJLmx8RdM"
      }
    },
    {
      "cell_type": "code",
      "source": [
        "import numpy as np\n",
        "zeros = np.zeros(10)\n",
        "ones = np.ones(10)\n",
        "fives = 5 * np.ones(10)\n",
        "\n",
        "print(\"Zeros:\\n\", zeros)\n",
        "print(\"Ones:\\n\", ones)\n",
        "print(\"Fives:\\n\", fives)\n",
        "\n",
        "result = np.concatenate((zeros, ones, fives))\n",
        "print(\"Combined\",result)"
      ],
      "metadata": {
        "colab": {
          "base_uri": "https://localhost:8080/"
        },
        "id": "MiwJygs38Wob",
        "outputId": "68f8d36c-1582-495b-af14-e37e64d329ed"
      },
      "execution_count": 3,
      "outputs": [
        {
          "output_type": "stream",
          "name": "stdout",
          "text": [
            "Zeros:\n",
            " [0. 0. 0. 0. 0. 0. 0. 0. 0. 0.]\n",
            "Ones:\n",
            " [1. 1. 1. 1. 1. 1. 1. 1. 1. 1.]\n",
            "Fives:\n",
            " [5. 5. 5. 5. 5. 5. 5. 5. 5. 5.]\n",
            "Combined [0. 0. 0. 0. 0. 0. 0. 0. 0. 0. 1. 1. 1. 1. 1. 1. 1. 1. 1. 1. 5. 5. 5. 5.\n",
            " 5. 5. 5. 5. 5. 5.]\n"
          ]
        }
      ]
    },
    {
      "cell_type": "code",
      "source": [
        "names = ['ram', 'paul', 'saran', 'sahara', 'renu', 'jeevi']\n",
        "n_array = np.array(names)\n",
        "\n",
        "print(n_array)"
      ],
      "metadata": {
        "colab": {
          "base_uri": "https://localhost:8080/"
        },
        "id": "IZ8sTw499DXK",
        "outputId": "35b7eadb-8f82-4065-de08-e19601f1836e"
      },
      "execution_count": 4,
      "outputs": [
        {
          "output_type": "stream",
          "name": "stdout",
          "text": [
            "['ram' 'paul' 'saran' 'sahara' 'renu' 'jeevi']\n"
          ]
        }
      ]
    },
    {
      "cell_type": "code",
      "source": [
        "data = [[21, 22, 23, 34], [5, 6, 7, 8]]\n",
        "matrix = np.array(data).reshape(2, 4)\n",
        "print(matrix)"
      ],
      "metadata": {
        "colab": {
          "base_uri": "https://localhost:8080/"
        },
        "id": "OZWM4Ble9DVN",
        "outputId": "5f95b55f-f249-45ca-ce36-cd55312840a5"
      },
      "execution_count": 7,
      "outputs": [
        {
          "output_type": "stream",
          "name": "stdout",
          "text": [
            "[[21 22 23 34]\n",
            " [ 5  6  7  8]]\n"
          ]
        }
      ]
    },
    {
      "cell_type": "code",
      "source": [
        "numbers = np.arange(2, 11)\n",
        "matrix = numbers.reshape(3, 3)\n",
        "\n",
        "print(matrix)"
      ],
      "metadata": {
        "colab": {
          "base_uri": "https://localhost:8080/"
        },
        "id": "yGySat_P9fz_",
        "outputId": "378e7170-5be5-41b6-9739-659bdb3ba4bb"
      },
      "execution_count": 8,
      "outputs": [
        {
          "output_type": "stream",
          "name": "stdout",
          "text": [
            "[[ 2  3  4]\n",
            " [ 5  6  7]\n",
            " [ 8  9 10]]\n"
          ]
        }
      ]
    },
    {
      "cell_type": "code",
      "source": [
        "sample_array = np.array([1, 2, 3, 4])\n",
        "\n",
        "repeated_2_times = np.repeat(sample_array, 2)\n",
        "print(repeated_2_times)\n",
        "\n",
        "repeated_3_times = np.repeat(sample_array, 3)\n",
        "print(repeated_3_times)"
      ],
      "metadata": {
        "colab": {
          "base_uri": "https://localhost:8080/"
        },
        "id": "Pd_3SFtJ9fvR",
        "outputId": "85e473a8-5e3f-4bd9-dad0-2628f392b815"
      },
      "execution_count": 9,
      "outputs": [
        {
          "output_type": "stream",
          "name": "stdout",
          "text": [
            "[1 1 2 2 3 3 4 4]\n",
            "[1 1 1 2 2 2 3 3 3 4 4 4]\n"
          ]
        }
      ]
    },
    {
      "cell_type": "code",
      "source": [
        "array = np.array([[2, 4, 6], [6, 8, 10]])\n",
        "fourth_element = array.flatten()[3]\n",
        "\n",
        "print(\"Forth element of the array:\", fourth_element)"
      ],
      "metadata": {
        "colab": {
          "base_uri": "https://localhost:8080/"
        },
        "id": "tZaSb6Zj9fs7",
        "outputId": "dffb15f9-7281-48b3-a6ac-4146c1959530"
      },
      "execution_count": 10,
      "outputs": [
        {
          "output_type": "stream",
          "name": "stdout",
          "text": [
            "Forth element of the array: 6\n"
          ]
        }
      ]
    },
    {
      "cell_type": "code",
      "source": [
        "array1 = np.array([10, 20, 30])\n",
        "array2 = np.array([40, 50, 60])\n",
        "result = np.column_stack((array1, array2))\n",
        "print(result)"
      ],
      "metadata": {
        "colab": {
          "base_uri": "https://localhost:8080/"
        },
        "id": "2Tmsvh0N9fqX",
        "outputId": "09c60f79-b94b-409f-d172-971d8a8b7482"
      },
      "execution_count": 11,
      "outputs": [
        {
          "output_type": "stream",
          "name": "stdout",
          "text": [
            "[[10 40]\n",
            " [20 50]\n",
            " [30 60]]\n"
          ]
        }
      ]
    },
    {
      "cell_type": "code",
      "source": [
        "all_numbers = np.arange(30, 71)\n",
        "\n",
        "even_numbers = all_numbers[all_numbers % 2 == 0]\n",
        "\n",
        "print(even_numbers)"
      ],
      "metadata": {
        "colab": {
          "base_uri": "https://localhost:8080/"
        },
        "id": "CrGpVU9Q-JEi",
        "outputId": "76780f5a-3d4d-4284-dd83-ad3997c0f186"
      },
      "execution_count": 12,
      "outputs": [
        {
          "output_type": "stream",
          "name": "stdout",
          "text": [
            "[30 32 34 36 38 40 42 44 46 48 50 52 54 56 58 60 62 64 66 68 70]\n"
          ]
        }
      ]
    },
    {
      "cell_type": "code",
      "source": [
        "array = np.array([1, 2, np.nan, 4, np.nan, 6])\n",
        "\n",
        "nan_elements = np.isnan(array)\n",
        "\n",
        "print(\"Original array:\")\n",
        "print(array)\n",
        "print(\"Element-wise NaN test:\")\n",
        "print(nan_elements)\n"
      ],
      "metadata": {
        "colab": {
          "base_uri": "https://localhost:8080/"
        },
        "id": "qwDxMjiW-JCn",
        "outputId": "5a40baa2-b267-4c7a-866f-67108403ee20"
      },
      "execution_count": 13,
      "outputs": [
        {
          "output_type": "stream",
          "name": "stdout",
          "text": [
            "Original array:\n",
            "[ 1.  2. nan  4. nan  6.]\n",
            "Element-wise NaN test:\n",
            "[False False  True False  True False]\n"
          ]
        }
      ]
    },
    {
      "cell_type": "code",
      "source": [
        "input_array = np.array([2, 4, 6, 8, 10, 12])\n",
        "output_array = input_array[::-1]\n",
        "print(output_array)\n"
      ],
      "metadata": {
        "colab": {
          "base_uri": "https://localhost:8080/"
        },
        "id": "PqHA0glD-kNy",
        "outputId": "ce392c6c-0d29-4fff-b067-ff0dc89eeab9"
      },
      "execution_count": 15,
      "outputs": [
        {
          "output_type": "stream",
          "name": "stdout",
          "text": [
            "[12 10  8  6  4  2]\n"
          ]
        }
      ]
    }
  ]
}