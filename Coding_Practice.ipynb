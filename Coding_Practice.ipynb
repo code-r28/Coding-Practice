{
  "nbformat": 4,
  "nbformat_minor": 0,
  "metadata": {
    "colab": {
      "provenance": [],
      "authorship_tag": "ABX9TyPPgHUjRDkj82n/LFqQQSUr",
      "include_colab_link": true
    },
    "kernelspec": {
      "name": "python3",
      "display_name": "Python 3"
    },
    "language_info": {
      "name": "python"
    }
  },
  "cells": [
    {
      "cell_type": "markdown",
      "metadata": {
        "id": "view-in-github",
        "colab_type": "text"
      },
      "source": [
        "<a href=\"https://colab.research.google.com/github/code-r28/Coding-Practice/blob/main/Coding_Practice.ipynb\" target=\"_parent\"><img src=\"https://colab.research.google.com/assets/colab-badge.svg\" alt=\"Open In Colab\"/></a>"
      ]
    },
    {
      "cell_type": "markdown",
      "source": [
        "#Day 1"
      ],
      "metadata": {
        "id": "Parf4It84x50"
      }
    },
    {
      "cell_type": "code",
      "execution_count": null,
      "metadata": {
        "id": "3sjGCo3oQJTq"
      },
      "outputs": [],
      "source": [
        "import numpy as np"
      ]
    },
    {
      "cell_type": "code",
      "source": [
        "A=np.arange(1,17).reshape(4,4)"
      ],
      "metadata": {
        "id": "x6LloxRAQMl_"
      },
      "execution_count": null,
      "outputs": []
    },
    {
      "cell_type": "markdown",
      "source": [
        "#Transpose Matrix"
      ],
      "metadata": {
        "id": "apkrXQruU9x3"
      }
    },
    {
      "cell_type": "code",
      "source": [
        "print(\"Matrix\")"
      ],
      "metadata": {
        "colab": {
          "base_uri": "https://localhost:8080/"
        },
        "id": "8oaPfo69QMby",
        "outputId": "3c0d7952-9864-40a7-9fcb-d0fb21c601a6"
      },
      "execution_count": null,
      "outputs": [
        {
          "output_type": "stream",
          "name": "stdout",
          "text": [
            "Matrix\n"
          ]
        }
      ]
    },
    {
      "cell_type": "code",
      "source": [
        "print(A)"
      ],
      "metadata": {
        "colab": {
          "base_uri": "https://localhost:8080/"
        },
        "id": "ZNtoG4WEQMQX",
        "outputId": "2187bc31-a490-4824-be40-6880cbc247d9"
      },
      "execution_count": null,
      "outputs": [
        {
          "output_type": "stream",
          "name": "stdout",
          "text": [
            "[[ 1  2  3  4]\n",
            " [ 5  6  7  8]\n",
            " [ 9 10 11 12]\n",
            " [13 14 15 16]]\n"
          ]
        }
      ]
    },
    {
      "cell_type": "code",
      "source": [
        "print(\"Transpose of the Matrix\")"
      ],
      "metadata": {
        "colab": {
          "base_uri": "https://localhost:8080/"
        },
        "id": "dC7HghhFQMOA",
        "outputId": "4fe674c7-0d34-4ac1-9c33-8916ea06a581"
      },
      "execution_count": null,
      "outputs": [
        {
          "output_type": "stream",
          "name": "stdout",
          "text": [
            "Transpose of the Matrix\n"
          ]
        }
      ]
    },
    {
      "cell_type": "code",
      "source": [
        "print(A.transpose())"
      ],
      "metadata": {
        "colab": {
          "base_uri": "https://localhost:8080/"
        },
        "id": "Xz_ixyxmQpVh",
        "outputId": "d1866a37-66a7-4936-fee0-717091c448c0"
      },
      "execution_count": null,
      "outputs": [
        {
          "output_type": "stream",
          "name": "stdout",
          "text": [
            "[[ 1  5  9 13]\n",
            " [ 2  6 10 14]\n",
            " [ 3  7 11 15]\n",
            " [ 4  8 12 16]]\n"
          ]
        }
      ]
    },
    {
      "cell_type": "markdown",
      "source": [
        "#Matrix Multiplication"
      ],
      "metadata": {
        "id": "eFRlgJuDR4iI"
      }
    },
    {
      "cell_type": "code",
      "source": [
        "B=np.arange(18,34).reshape(4,4)"
      ],
      "metadata": {
        "id": "qp3JnUH3R4H3"
      },
      "execution_count": null,
      "outputs": []
    },
    {
      "cell_type": "code",
      "source": [
        "A.dot(B) #Multiplcation function"
      ],
      "metadata": {
        "colab": {
          "base_uri": "https://localhost:8080/"
        },
        "id": "mvvsuc16SFob",
        "outputId": "d53da776-9ce9-4322-a3b7-c22121b76575"
      },
      "execution_count": null,
      "outputs": [
        {
          "output_type": "execute_result",
          "data": {
            "text/plain": [
              "array([[ 260,  270,  280,  290],\n",
              "       [ 644,  670,  696,  722],\n",
              "       [1028, 1070, 1112, 1154],\n",
              "       [1412, 1470, 1528, 1586]])"
            ]
          },
          "metadata": {},
          "execution_count": 26
        }
      ]
    },
    {
      "cell_type": "code",
      "source": [
        "C=np.arange(35,51).reshape(4,4)"
      ],
      "metadata": {
        "id": "SmeXcSncTCFr"
      },
      "execution_count": null,
      "outputs": []
    },
    {
      "cell_type": "code",
      "source": [
        "# ABC=(AB)C=A(BC)\n",
        "temp1=(A.dot(B).dot(C))\n",
        "temp2=A.dot((B).dot(C))"
      ],
      "metadata": {
        "id": "IKs3GP2YTB-m"
      },
      "execution_count": null,
      "outputs": []
    },
    {
      "cell_type": "code",
      "source": [
        "print(temp1)\n",
        "print(temp2)"
      ],
      "metadata": {
        "colab": {
          "base_uri": "https://localhost:8080/"
        },
        "id": "c1WWtiu0TBpj",
        "outputId": "f874e8bc-bb46-4a8c-9d2e-fad61c8f28f3"
      },
      "execution_count": null,
      "outputs": [
        {
          "output_type": "stream",
          "name": "stdout",
          "text": [
            "[[ 45300  46400  47500  48600]\n",
            " [112532 115264 117996 120728]\n",
            " [179764 184128 188492 192856]\n",
            " [246996 252992 258988 264984]]\n",
            "[[ 45300  46400  47500  48600]\n",
            " [112532 115264 117996 120728]\n",
            " [179764 184128 188492 192856]\n",
            " [246996 252992 258988 264984]]\n"
          ]
        }
      ]
    },
    {
      "cell_type": "markdown",
      "source": [
        "#Inverse Matrix"
      ],
      "metadata": {
        "id": "E7Pb3QT5Ul7v"
      }
    },
    {
      "cell_type": "code",
      "source": [
        "arr=np.arange(91,107).reshape(4,4)\n",
        "print(arr)"
      ],
      "metadata": {
        "colab": {
          "base_uri": "https://localhost:8080/"
        },
        "id": "kMi6Xs6MUoPX",
        "outputId": "57fee1f5-fabf-4c9c-de29-0fc6b0924c9d"
      },
      "execution_count": null,
      "outputs": [
        {
          "output_type": "stream",
          "name": "stdout",
          "text": [
            "[[ 91  92  93  94]\n",
            " [ 95  96  97  98]\n",
            " [ 99 100 101 102]\n",
            " [103 104 105 106]]\n"
          ]
        }
      ]
    },
    {
      "cell_type": "code",
      "source": [
        "np.linalg.det(arr)"
      ],
      "metadata": {
        "colab": {
          "base_uri": "https://localhost:8080/"
        },
        "id": "qWt8Vl-UU4j3",
        "outputId": "5943bbc8-9f02-45ab-cbaa-5ab45a5ec6bb"
      },
      "execution_count": null,
      "outputs": [
        {
          "output_type": "execute_result",
          "data": {
            "text/plain": [
              "2.4233807008391215e-27"
            ]
          },
          "metadata": {},
          "execution_count": 39
        }
      ]
    },
    {
      "cell_type": "code",
      "source": [
        "np.linalg.inv(arr)"
      ],
      "metadata": {
        "colab": {
          "base_uri": "https://localhost:8080/"
        },
        "id": "lsajRkHMVjqH",
        "outputId": "15c326a7-ba7a-4543-a89f-cabd687cca1e"
      },
      "execution_count": null,
      "outputs": [
        {
          "output_type": "execute_result",
          "data": {
            "text/plain": [
              "array([[ 2.34562481e+13, -8.66990291e+00, -7.03687442e+13,\n",
              "         4.69124961e+13],\n",
              "       [-2.86669922e+00, -7.03687442e+13,  1.40737488e+14,\n",
              "        -7.03687442e+13],\n",
              "       [-7.03687442e+13,  1.40737488e+14, -7.03687442e+13,\n",
              "        -0.00000000e+00],\n",
              "       [ 4.69124961e+13, -7.03687442e+13, -0.00000000e+00,\n",
              "         2.34562481e+13]])"
            ]
          },
          "metadata": {},
          "execution_count": 40
        }
      ]
    },
    {
      "cell_type": "markdown",
      "source": [
        "#Day 2\n"
      ],
      "metadata": {
        "id": "wPBCm0DSmOXo"
      }
    },
    {
      "cell_type": "code",
      "source": [
        "import pandas as pd\n",
        "import numpy as np"
      ],
      "metadata": {
        "id": "DkKMCKvYoY67"
      },
      "execution_count": null,
      "outputs": []
    },
    {
      "cell_type": "code",
      "source": [
        "df=pd.read_csv('/content/baseball.csv')"
      ],
      "metadata": {
        "id": "KlEtWMUVndMz"
      },
      "execution_count": null,
      "outputs": []
    },
    {
      "cell_type": "code",
      "source": [
        "df1=df.head(6)"
      ],
      "metadata": {
        "id": "K7V4kDIInd8A"
      },
      "execution_count": null,
      "outputs": []
    },
    {
      "cell_type": "code",
      "source": [
        "X=df1[['RS','RA','W','OBP','SLG','BA']]\n",
        "Y=df1['OOBP']"
      ],
      "metadata": {
        "id": "s0QBqRfOnd1d"
      },
      "execution_count": null,
      "outputs": []
    },
    {
      "cell_type": "code",
      "source": [
        "X=np.asmatrix(X)"
      ],
      "metadata": {
        "id": "MYWfTaSxpGDu"
      },
      "execution_count": null,
      "outputs": []
    },
    {
      "cell_type": "code",
      "source": [
        "x=np.transpose(X)"
      ],
      "metadata": {
        "id": "cRhOMxfqpVcE"
      },
      "execution_count": null,
      "outputs": []
    },
    {
      "cell_type": "code",
      "source": [
        "T=x.dot(x)"
      ],
      "metadata": {
        "id": "CxiH4yrxpb6n"
      },
      "execution_count": null,
      "outputs": []
    },
    {
      "cell_type": "code",
      "source": [
        "inv=np.linalg.inv(T)"
      ],
      "metadata": {
        "id": "srUFjt3Spb4z"
      },
      "execution_count": null,
      "outputs": []
    },
    {
      "cell_type": "code",
      "source": [
        "theta=(inv.dot(X,T)).dot(Y)\n",
        "print(theta)"
      ],
      "metadata": {
        "colab": {
          "base_uri": "https://localhost:8080/"
        },
        "id": "GEYIbcEGpb2U",
        "outputId": "52f0e077-dbef-4997-bf2b-29353b997c89"
      },
      "execution_count": null,
      "outputs": [
        {
          "output_type": "stream",
          "name": "stdout",
          "text": [
            "[[-1.98472944e+08  4.22467448e+07 -6.98356411e+07 -2.40846731e+07\n",
            "   6.83114152e+07  1.89348207e+08]]\n"
          ]
        }
      ]
    },
    {
      "cell_type": "code",
      "source": [
        "from sympy import *\n",
        "x=Symbol ('x')\n",
        "f=x**2\n",
        "derivative=f.diff(x)\n",
        "print (derivative)"
      ],
      "metadata": {
        "colab": {
          "base_uri": "https://localhost:8080/"
        },
        "id": "XKopxGpT3Bx2",
        "outputId": "3c3a1589-1b58-4c09-dd64-342990257b69"
      },
      "execution_count": null,
      "outputs": [
        {
          "output_type": "stream",
          "name": "stdout",
          "text": [
            "2*x\n"
          ]
        }
      ]
    },
    {
      "cell_type": "code",
      "source": [
        "import matplotlib.pyplot as plt\n",
        "import numpy as np\n",
        "x=np.linspace (-10, 10, 100)\n",
        "y=x**2\n",
        "dy=2*x\n",
        "fig, ax=plt.subplots()\n",
        "ax.plot(x, y, 'r', linewidth=2)\n",
        "ax.plot(x, dy, 'g',linewidth=2)\n",
        "ax.legend(['y=x^2','dy/dx=2x'])"
      ],
      "metadata": {
        "colab": {
          "base_uri": "https://localhost:8080/",
          "height": 448
        },
        "id": "xX0nnicE3ElA",
        "outputId": "2d330566-f04f-449c-9f6a-ceb5a29c540a"
      },
      "execution_count": null,
      "outputs": [
        {
          "output_type": "execute_result",
          "data": {
            "text/plain": [
              "<matplotlib.legend.Legend at 0x7af9362497e0>"
            ]
          },
          "metadata": {},
          "execution_count": 51
        },
        {
          "output_type": "display_data",
          "data": {
            "text/plain": [
              "<Figure size 640x480 with 1 Axes>"
            ],
            "image/png": "[encoded data removed]"
          },
          "metadata": {}
        }
      ]
    },
    {
      "cell_type": "code",
      "source": [
        "x=Symbol('x')\n",
        "f=x**2\n",
        "integral=integrate(f,(x,0,1))\n",
        "print(integral)"
      ],
      "metadata": {
        "colab": {
          "base_uri": "https://localhost:8080/"
        },
        "id": "O_0xcU6R6bJk",
        "outputId": "518a9efd-e783-43af-c4d3-1f193798b650"
      },
      "execution_count": null,
      "outputs": [
        {
          "output_type": "stream",
          "name": "stdout",
          "text": [
            "1/3\n"
          ]
        }
      ]
    },
    {
      "cell_type": "code",
      "source": [
        "x=np.linspace(0,1,100)\n",
        "y=x**2\n",
        "\n",
        "fig, ax=plt.subplots()\n",
        "ax.fill_between(x,y)\n",
        "plt.show()"
      ],
      "metadata": {
        "colab": {
          "base_uri": "https://localhost:8080/",
          "height": 430
        },
        "id": "Lqyfyx576bHq",
        "outputId": "eac59a45-b613-4b5d-9e30-3bbe921d44c1"
      },
      "execution_count": null,
      "outputs": [
        {
          "output_type": "display_data",
          "data": {
            "text/plain": [
              "<Figure size 640x480 with 1 Axes>"
            ],
            "image/png": "[encoded data removed]"
          },
          "metadata": {}
        }
      ]
    },
    {
      "cell_type": "markdown",
      "source": [
        "#Binomial Distribution\n"
      ],
      "metadata": {
        "id": "Ki9TfQ5IJ1f1"
      }
    },
    {
      "cell_type": "code",
      "source": [
        "from scipy.stats import binom"
      ],
      "metadata": {
        "id": "XGGD9hAaLH8Z"
      },
      "execution_count": 3,
      "outputs": []
    },
    {
      "cell_type": "code",
      "source": [
        "n=21\n",
        "p=0.5"
      ],
      "metadata": {
        "id": "FQtbhLyJJ6i6"
      },
      "execution_count": 1,
      "outputs": []
    },
    {
      "cell_type": "code",
      "source": [
        "binom_dist=binom(n,p)\n",
        "even_probs=binom_dist.pmf(range(0,22,2))"
      ],
      "metadata": {
        "id": "9dJV32a7J6YQ"
      },
      "execution_count": 5,
      "outputs": []
    },
    {
      "cell_type": "code",
      "source": [
        "for i, prob in enumerate(even_probs):\n",
        "  print(\"The Prob of getting {} head in 21 flips is {} \".format(2*i,prob))"
      ],
      "metadata": {
        "colab": {
          "base_uri": "https://localhost:8080/"
        },
        "id": "1v7eG1VGLPKp",
        "outputId": "d3b0961c-2584-43ea-985a-30462ec845aa"
      },
      "execution_count": 7,
      "outputs": [
        {
          "output_type": "stream",
          "name": "stdout",
          "text": [
            "The Prob of getting 0 head in 21 flips is 4.768371582031256e-07 \n",
            "The Prob of getting 2 head in 21 flips is 0.0001001358032226562 \n",
            "The Prob of getting 4 head in 21 flips is 0.002853870391845703 \n",
            "The Prob of getting 6 head in 21 flips is 0.025875091552734385 \n",
            "The Prob of getting 8 head in 21 flips is 0.09703159332275395 \n",
            "The Prob of getting 10 head in 21 flips is 0.16818809509277355 \n",
            "The Prob of getting 12 head in 21 flips is 0.14015674591064464 \n",
            "The Prob of getting 14 head in 21 flips is 0.055446624755859236 \n",
            "The Prob of getting 16 head in 21 flips is 0.009703159332275378 \n",
            "The Prob of getting 18 head in 21 flips is 0.0006341934204101561 \n",
            "The Prob of getting 20 head in 21 flips is 1.0013580322265633e-05 \n"
          ]
        }
      ]
    },
    {
      "cell_type": "code",
      "source": [
        "total_prob=sum(even_probs)\n",
        "print(\"Total Prob of getting even num of head is {}\".format(total_prob))"
      ],
      "metadata": {
        "colab": {
          "base_uri": "https://localhost:8080/"
        },
        "id": "BRA0dYHhLOx_",
        "outputId": "2adc0090-6ca9-4db1-e2f9-357f79c52326"
      },
      "execution_count": 8,
      "outputs": [
        {
          "output_type": "stream",
          "name": "stdout",
          "text": [
            "Total Prob of getting even num of head is 0.5000000000000001\n"
          ]
        }
      ]
    },
    {
      "cell_type": "code",
      "source": [
        "#Plot a normal distribution for the height of men,mean-175,sd-6\n",
        "import matplotlib.pyplot as plt\n",
        "import seaborn as sns\n",
        "import numpy as np"
      ],
      "metadata": {
        "id": "Zxcx_icFPJb-"
      },
      "execution_count": 5,
      "outputs": []
    },
    {
      "cell_type": "code",
      "source": [
        "mu,sigma=175,6\n",
        "data=np.random.normal(mu,sigma,10000)"
      ],
      "metadata": {
        "id": "l2Iha5r8PJPv"
      },
      "execution_count": 6,
      "outputs": []
    },
    {
      "cell_type": "code",
      "source": [
        "sns.histplot(data,bins=30,kde=True,stat='probability')\n",
        "plt.xlabel('Height(Men)')\n",
        "plt.ylabel('Height(Prob)')\n",
        "plt.title(\"Distribution of Men's height\")\n",
        "plt.xticks(range(155,200,5))\n",
        "plt.show"
      ],
      "metadata": {
        "colab": {
          "base_uri": "https://localhost:8080/",
          "height": 642
        },
        "id": "2zqtH75lQyvz",
        "outputId": "6ddee7eb-0b0b-40a7-a833-b9a0f8923299"
      },
      "execution_count": 8,
      "outputs": [
        {
          "output_type": "execute_result",
          "data": {
            "text/plain": [
              "<function matplotlib.pyplot.show(close=None, block=None)>"
            ],
            "text/html": [
              "<div style=\"max-width:800px; border: 1px solid var(--colab-border-color);\"><style>\n",
              "      pre.function-repr-contents {\n",
              "        overflow-x: auto;\n",
              "        padding: 8px 12px;\n",
              "        max-height: 500px;\n",
              "      }\n",
              "\n",
              "      pre.function-repr-contents.function-repr-contents-collapsed {\n",
              "        cursor: pointer;\n",
              "        max-height: 100px;\n",
              "      }\n",
              "    </style>\n",
              "    <pre style=\"white-space: initial; background:\n",
              "         var(--colab-secondary-surface-color); padding: 8px 12px;\n",
              "         border-bottom: 1px solid var(--colab-border-color);\"><b>matplotlib.pyplot.show</b><br/>def show(*args, **kwargs)</pre><pre class=\"function-repr-contents function-repr-contents-collapsed\" style=\"\"><a class=\"filepath\" style=\"display:none\" href=\"#\">/usr/local/lib/python3.10/dist-packages/matplotlib/pyplot.py</a>Display all open figures.\n",
              "\n",
              "Parameters\n",
              "----------\n",
              "block : bool, optional\n",
              "    Whether to wait for all figures to be closed before returning.\n",
              "\n",
              "    If `True` block and run the GUI main loop until all figure windows\n",
              "    are closed.\n",
              "\n",
              "    If `False` ensure that all figure windows are displayed and return\n",
              "    immediately.  In this case, you are responsible for ensuring\n",
              "    that the event loop is running to have responsive figures.\n",
              "\n",
              "    Defaults to True in non-interactive mode and to False in interactive\n",
              "    mode (see `.pyplot.isinteractive`).\n",
              "\n",
              "See Also\n",
              "--------\n",
              "ion : Enable interactive mode, which shows / updates the figure after\n",
              "      every plotting command, so that calling ``show()`` is not necessary.\n",
              "ioff : Disable interactive mode.\n",
              "savefig : Save the figure to an image file instead of showing it on screen.\n",
              "\n",
              "Notes\n",
              "-----\n",
              "**Saving figures to file and showing a window at the same time**\n",
              "\n",
              "If you want an image file as well as a user interface window, use\n",
              "`.pyplot.savefig` before `.pyplot.show`. At the end of (a blocking)\n",
              "``show()`` the figure is closed and thus unregistered from pyplot. Calling\n",
              "`.pyplot.savefig` afterwards would save a new and thus empty figure. This\n",
              "limitation of command order does not apply if the show is non-blocking or\n",
              "if you keep a reference to the figure and use `.Figure.savefig`.\n",
              "\n",
              "**Auto-show in jupyter notebooks**\n",
              "\n",
              "The jupyter backends (activated via ``%matplotlib inline``,\n",
              "``%matplotlib notebook``, or ``%matplotlib widget``), call ``show()`` at\n",
              "the end of every cell by default. Thus, you usually don&#x27;t have to call it\n",
              "explicitly there.</pre>\n",
              "      <script>\n",
              "      if (google.colab.kernel.accessAllowed && google.colab.files && google.colab.files.view) {\n",
              "        for (const element of document.querySelectorAll('.filepath')) {\n",
              "          element.style.display = 'block'\n",
              "          element.onclick = (event) => {\n",
              "            event.preventDefault();\n",
              "            event.stopPropagation();\n",
              "            google.colab.files.view(element.textContent, 401);\n",
              "          };\n",
              "        }\n",
              "      }\n",
              "      for (const element of document.querySelectorAll('.function-repr-contents')) {\n",
              "        element.onclick = (event) => {\n",
              "          event.preventDefault();\n",
              "          event.stopPropagation();\n",
              "          element.classList.toggle('function-repr-contents-collapsed');\n",
              "        };\n",
              "      }\n",
              "      </script>\n",
              "      </div>"
            ]
          },
          "metadata": {},
          "execution_count": 8
        },
        {
          "output_type": "display_data",
          "data": {
            "text/plain": [
              "<Figure size 640x480 with 1 Axes>"
            ],
            "image/png": "[encoded data removed]"
          },
          "metadata": {}
        }
      ]
    },
    {
      "cell_type": "code",
      "source": [
        "data=(data-mu)/sigma"
      ],
      "metadata": {
        "id": "CmpDmGmCSuWD"
      },
      "execution_count": 9,
      "outputs": []
    },
    {
      "cell_type": "code",
      "source": [
        "one_sd=len(data[(data>-1)&(data<1)])/len(data)*100\n",
        "two_sd=len(data[(data>-2)&(data<2)])/len(data)*100\n",
        "third_sd=len(data[(data>-3)&(data<3)])/len(data)*100"
      ],
      "metadata": {
        "id": "o0Mb8dlaTu5x"
      },
      "execution_count": 11,
      "outputs": []
    },
    {
      "cell_type": "code",
      "source": [
        "print('Percentage of data withine one sd:',round(one_sd,2))\n",
        "print('Percentage of data withine two sd:',round(two_sd,2))\n",
        "print('Percentage of data withine third sd:',round(third_sd,2))"
      ],
      "metadata": {
        "id": "w4ZuysxFTu3K"
      },
      "execution_count": null,
      "outputs": []
    },
    {
      "cell_type": "code",
      "source": [
        "sns.histplot(data,bins=30,kde=True,stat='probability')\n",
        "plt.xlabel('Height(Men)')\n",
        "plt.ylabel('Height(Prob)')\n",
        "plt.title(\"Distribution of Men's height\")\n",
        "plt.xticks(range(-3,4,1))\n",
        "plt.show"
      ],
      "metadata": {
        "colab": {
          "base_uri": "https://localhost:8080/",
          "height": 642
        },
        "id": "OE8EHF4gTu0D",
        "outputId": "a54ffc9c-3763-41f8-9b63-51d846872c4e"
      },
      "execution_count": 14,
      "outputs": [
        {
          "output_type": "execute_result",
          "data": {
            "text/plain": [
              "<function matplotlib.pyplot.show(close=None, block=None)>"
            ],
            "text/html": [
              "<div style=\"max-width:800px; border: 1px solid var(--colab-border-color);\"><style>\n",
              "      pre.function-repr-contents {\n",
              "        overflow-x: auto;\n",
              "        padding: 8px 12px;\n",
              "        max-height: 500px;\n",
              "      }\n",
              "\n",
              "      pre.function-repr-contents.function-repr-contents-collapsed {\n",
              "        cursor: pointer;\n",
              "        max-height: 100px;\n",
              "      }\n",
              "    </style>\n",
              "    <pre style=\"white-space: initial; background:\n",
              "         var(--colab-secondary-surface-color); padding: 8px 12px;\n",
              "         border-bottom: 1px solid var(--colab-border-color);\"><b>matplotlib.pyplot.show</b><br/>def show(*args, **kwargs)</pre><pre class=\"function-repr-contents function-repr-contents-collapsed\" style=\"\"><a class=\"filepath\" style=\"display:none\" href=\"#\">/usr/local/lib/python3.10/dist-packages/matplotlib/pyplot.py</a>Display all open figures.\n",
              "\n",
              "Parameters\n",
              "----------\n",
              "block : bool, optional\n",
              "    Whether to wait for all figures to be closed before returning.\n",
              "\n",
              "    If `True` block and run the GUI main loop until all figure windows\n",
              "    are closed.\n",
              "\n",
              "    If `False` ensure that all figure windows are displayed and return\n",
              "    immediately.  In this case, you are responsible for ensuring\n",
              "    that the event loop is running to have responsive figures.\n",
              "\n",
              "    Defaults to True in non-interactive mode and to False in interactive\n",
              "    mode (see `.pyplot.isinteractive`).\n",
              "\n",
              "See Also\n",
              "--------\n",
              "ion : Enable interactive mode, which shows / updates the figure after\n",
              "      every plotting command, so that calling ``show()`` is not necessary.\n",
              "ioff : Disable interactive mode.\n",
              "savefig : Save the figure to an image file instead of showing it on screen.\n",
              "\n",
              "Notes\n",
              "-----\n",
              "**Saving figures to file and showing a window at the same time**\n",
              "\n",
              "If you want an image file as well as a user interface window, use\n",
              "`.pyplot.savefig` before `.pyplot.show`. At the end of (a blocking)\n",
              "``show()`` the figure is closed and thus unregistered from pyplot. Calling\n",
              "`.pyplot.savefig` afterwards would save a new and thus empty figure. This\n",
              "limitation of command order does not apply if the show is non-blocking or\n",
              "if you keep a reference to the figure and use `.Figure.savefig`.\n",
              "\n",
              "**Auto-show in jupyter notebooks**\n",
              "\n",
              "The jupyter backends (activated via ``%matplotlib inline``,\n",
              "``%matplotlib notebook``, or ``%matplotlib widget``), call ``show()`` at\n",
              "the end of every cell by default. Thus, you usually don&#x27;t have to call it\n",
              "explicitly there.</pre>\n",
              "      <script>\n",
              "      if (google.colab.kernel.accessAllowed && google.colab.files && google.colab.files.view) {\n",
              "        for (const element of document.querySelectorAll('.filepath')) {\n",
              "          element.style.display = 'block'\n",
              "          element.onclick = (event) => {\n",
              "            event.preventDefault();\n",
              "            event.stopPropagation();\n",
              "            google.colab.files.view(element.textContent, 401);\n",
              "          };\n",
              "        }\n",
              "      }\n",
              "      for (const element of document.querySelectorAll('.function-repr-contents')) {\n",
              "        element.onclick = (event) => {\n",
              "          event.preventDefault();\n",
              "          event.stopPropagation();\n",
              "          element.classList.toggle('function-repr-contents-collapsed');\n",
              "        };\n",
              "      }\n",
              "      </script>\n",
              "      </div>"
            ]
          },
          "metadata": {},
          "execution_count": 14
        },
        {
          "output_type": "display_data",
          "data": {
            "text/plain": [
              "<Figure size 640x480 with 1 Axes>"
            ],
            "image/png": "[encoded data removed]"
          },
          "metadata": {}
        }
      ]
    },
    {
      "cell_type": "code",
      "source": [
        "from scipy.stats import norm\n",
        "\n",
        "mu=175\n",
        "sigma=5"
      ],
      "metadata": {
        "id": "fklnIZVjXkKs"
      },
      "execution_count": 15,
      "outputs": []
    },
    {
      "cell_type": "code",
      "source": [
        "z=(183-mu)/sigma\n",
        "p=norm.cdf(z)"
      ],
      "metadata": {
        "id": "cjZP--vhXjPN"
      },
      "execution_count": 16,
      "outputs": []
    },
    {
      "cell_type": "code",
      "source": [
        "p=norm.cdf(z)\n",
        "print(\"Percentage of men shorter than 183 cm:\",round(p*100,2))"
      ],
      "metadata": {
        "colab": {
          "base_uri": "https://localhost:8080/"
        },
        "id": "p_b7lzuNX2Wo",
        "outputId": "dc1bc32d-9ae7-4d02-a681-5fcd87d941ca"
      },
      "execution_count": 17,
      "outputs": [
        {
          "output_type": "stream",
          "name": "stdout",
          "text": [
            "Percentage of men shorter than 183 cm: 94.52\n"
          ]
        }
      ]
    }
  ]
}